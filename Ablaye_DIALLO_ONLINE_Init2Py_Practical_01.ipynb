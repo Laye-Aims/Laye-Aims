{
 "cells": [
  {
   "cell_type": "markdown",
   "metadata": {
    "id": "22f02e1a"
   },
   "source": [
    "<center>\n",
    "    <a href=\"https://www.aims-senegal.org/\" ><img src=\"aimssn_logo.png\" style=\"float:center; max-width: 600px; display: inline\" alt=\"IMSP\"/> </a>\n",
    "    </center>\n",
    "    \n",
    "#    <center> <b> <span style=\"color:orange;\" >  `Python for Scientific Computing and Software Engineering ` </span> </b></center>\n",
    "\n",
    "\n",
    "## <center> <b> <span style=\"color:orange;\"> An Initiation to Programming using Python (Init2Py) </span> </b></center>\n",
    "\n",
    "### <center> <b> <span style=\"color:blue;\"> Practicals: Variables, Types & Operations </span> </b></center>"
   ]
  },
  {
   "cell_type": "markdown",
   "metadata": {
    "id": "ddc667e7"
   },
   "source": [
    "**Exercise 00:**  \n",
    "\n",
    "> 1. Declare a variable `firstname` and assign it a value.\n",
    "> 2. Declare a `lastname` variable and assign a value to it.\n",
    "> 3. Declare a `full_name` variable and assign it a value.\n",
    "> 4. Declare a `country` variable and assign it a value.\n",
    "> 5. Declare a variable `city` and assign it a value.\n",
    "> 6. Declare a `age` variable and assign it a value.\n",
    "> 7. Declare a variable `year` and assign it a value.\n",
    "> 8. Declare a variable `is_marrie` and assign it a value.\n",
    "> 9. Declare a variable `is_true` and assign it a value.\n",
    "\n",
    "> For each of the above variable, display the value it contains using the `print()` function.\n",
    "\n",
    "\n"
   ]
  },
  {
   "cell_type": "code",
   "execution_count": 1,
   "metadata": {},
   "outputs": [
    {
     "name": "stdout",
     "output_type": "stream",
     "text": [
      "Ablaye\n",
      "DIALLO\n",
      "Ablaye DIALLO\n",
      "Senegal\n",
      "Dakar\n",
      "29\n",
      "1992\n",
      "False\n",
      "False\n"
     ]
    }
   ],
   "source": [
    "firstname ='Ablaye'\n",
    "lastname ='DIALLO'\n",
    "full_name ='Ablaye DIALLO'\n",
    "country ='Senegal'\n",
    "city ='Dakar'\n",
    "age = 29\n",
    "year= 1992\n",
    "is_marrie=False\n",
    "is_true=False\n",
    "print(firstname)\n",
    "print (lastname)\n",
    "print(full_name)\n",
    "print(country)\n",
    "print(city)\n",
    "print(age)\n",
    "print(year)\n",
    "print(is_marrie)\n",
    "print(is_true)"
   ]
  },
  {
   "cell_type": "markdown",
   "metadata": {
    "id": "85eb4f96"
   },
   "source": [
    "**Exercise 01:** \n",
    "Check the data type of all your variables using the built-in function `type()`.**\n"
   ]
  },
  {
   "cell_type": "code",
   "execution_count": 2,
   "metadata": {},
   "outputs": [
    {
     "name": "stdout",
     "output_type": "stream",
     "text": [
      "<class 'str'>\n",
      "<class 'str'>\n",
      "<class 'str'>\n",
      "<class 'str'>\n",
      "<class 'str'>\n",
      "<class 'int'>\n",
      "<class 'int'>\n",
      "<class 'bool'>\n",
      "<class 'bool'>\n"
     ]
    }
   ],
   "source": [
    "print(type(firstname))\n",
    "print(type(lastname))\n",
    "print(type(full_name))\n",
    "print(type(country))\n",
    "print(type(city))\n",
    "print(type(age))\n",
    "print(type(year))\n",
    "print(type(is_marrie))\n",
    "print(type(is_true))"
   ]
  },
  {
   "cell_type": "markdown",
   "metadata": {
    "id": "76cdc19b"
   },
   "source": [
    "**Exercise 02:** \n",
    "> Calculate the value of $y$ ($y = x^2 + 6x + 9$). Try using different values of $x$ and determine at what value of $x$ will $y$ be equal to 0.**"
   ]
  },
  {
   "cell_type": "code",
   "execution_count": 3,
   "metadata": {},
   "outputs": [
    {
     "name": "stdout",
     "output_type": "stream",
     "text": [
      "0\n"
     ]
    }
   ],
   "source": [
    "x=-3\n",
    "y=x**2+6*x+9\n",
    "print(y)\n"
   ]
  },
  {
   "cell_type": "markdown",
   "metadata": {
    "id": "8f40e3ab"
   },
   "source": [
    "**Exercise 03:** \n",
    ">    \n",
    "     1. Declare your age as an integer variable\n",
    "     2. Declare your height as a float variable\n",
    "     3. Declare a variable that stores the base and height of a triangle. Calculate the area of this triangle (area = 0.5 x b x h)."
   ]
  },
  {
   "cell_type": "code",
   "execution_count": 4,
   "metadata": {},
   "outputs": [
    {
     "name": "stdout",
     "output_type": "stream",
     "text": [
      "entrer la base:2\n",
      "entrer la height:3\n",
      "l'aire est 3.0\n"
     ]
    }
   ],
   "source": [
    "base =input(\"entrer la base:\")\n",
    "base=int(base)\n",
    "height=input(\"entrer la height:\")\n",
    "height=float(height)\n",
    "area=0.5*base*height\n",
    "print(\"l'aire est\",area)"
   ]
  },
  {
   "cell_type": "markdown",
   "metadata": {
    "id": "9957391d"
   },
   "source": [
    "## *Tip: receiving input from the user *\n",
    "**To receive an input from the user, we use `input()`.**.\n",
    "\n",
    "**Example**\n",
    "Receive two numbers as input from the user and calculate their power:\n",
    "```python\n",
    "base = input(\"Enter a base: \")\n",
    "exponent = input(\"Enter an exponent: \")\n",
    "result = float(base) ** float(exponent)\n",
    "print(f \"{base} to the power of {exponent} = {result}\")\n",
    "```"
   ]
  },
  {
   "cell_type": "markdown",
   "metadata": {
    "id": "0fb34716"
   },
   "source": [
    "**Exercise 04:** \n",
    "> **Write a small code that asks the user to enter the side $a$, the side $b$ and the side $c$ of a triangle. Calculate the perimeter of the triangle (perimeter = a + b + c).**"
   ]
  },
  {
   "cell_type": "code",
   "execution_count": null,
   "metadata": {
    "colab": {
     "base_uri": "https://localhost:8080/"
    },
    "id": "6618f067",
    "outputId": "d6a05b42-dcd9-4079-a581-f10c09dd6e00"
   },
   "outputs": [
    {
     "name": "stdout",
     "output_type": "stream",
     "text": [
      "Enter the side a: 4\n",
      "Enter the side b: 4\n",
      "Enter the side c: 5\n",
      "13\n"
     ]
    }
   ],
   "source": [
    "a = input(\"Enter the side a: \")\n",
    "b = input(\"Enter the side b: \")\n",
    "c = input(\"Enter the side c: \")\n",
    "p = int(a) + int(b) + int(c)\n",
    "print(p)"
   ]
  },
  {
   "cell_type": "code",
   "execution_count": 5,
   "metadata": {},
   "outputs": [
    {
     "name": "stdout",
     "output_type": "stream",
     "text": [
      "entrer a:4\n",
      "entrer b:6\n",
      "entrer c:3\n",
      "le perimetre 13\n"
     ]
    }
   ],
   "source": [
    "a =input(\"entrer a:\")\n",
    "a=int(a)\n",
    "b=input(\"entrer b:\")\n",
    "b=int(b)\n",
    "c =input(\"entrer c:\")\n",
    "c=int(c)\n",
    "perimeter=a+b+c\n",
    "print(\"le perimetre\",perimeter)"
   ]
  },
  {
   "cell_type": "markdown",
   "metadata": {
    "id": "e482c15c"
   },
   "source": [
    "**Exercise 05:** \n",
    "> **Obtain the length and width of a rectangle using the prompt. Calculate its `area`and its `perimeter`.**"
   ]
  },
  {
   "cell_type": "code",
   "execution_count": 7,
   "metadata": {
    "colab": {
     "base_uri": "https://localhost:8080/"
    },
    "id": "286cec4c",
    "outputId": "438e108c-76d9-4c14-f446-f1e6ac7edb7d"
   },
   "outputs": [
    {
     "name": "stdout",
     "output_type": "stream",
     "text": [
      "Enter the length: 2\n",
      "Enter the width: 4\n",
      "8 6\n"
     ]
    }
   ],
   "source": [
    "a = input(\"Enter the length: \")\n",
    "b = input(\"Enter the width: \")\n",
    "area = int(a)*int(b) \n",
    "perimeter = int(a) + int(b)\n",
    "print(area,perimeter)"
   ]
  },
  {
   "cell_type": "code",
   "execution_count": 8,
   "metadata": {},
   "outputs": [
    {
     "name": "stdout",
     "output_type": "stream",
     "text": [
      "entrer the length:2\n",
      "entrer width:3\n",
      "l'aire est  6\n",
      "perimetre est  10\n"
     ]
    }
   ],
   "source": [
    "L=int(input(\"entrer the length:\"))\n",
    "l=int(input(\"entrer width:\"))\n",
    "aire=L*l\n",
    "perimetre=2*(L+l)\n",
    "print(\"l'aire est \",aire)\n",
    "print(\"perimetre est \",perimetre)"
   ]
  },
  {
   "cell_type": "markdown",
   "metadata": {
    "id": "cf15844c"
   },
   "source": [
    "**Exercice 06:** \n",
    "> **Obtenez le rayon d'un cercle en utilisant l'invite. Calculez l'aire (aire = pi x r x r) et la circonférence (c = 2 x pi x r) où pi = 3,14.**"
   ]
  },
  {
   "cell_type": "code",
   "execution_count": null,
   "metadata": {
    "colab": {
     "base_uri": "https://localhost:8080/"
    },
    "id": "ee0ee85e",
    "outputId": "624c7059-6e7a-4e79-d56d-df7bba0cfe17"
   },
   "outputs": [
    {
     "name": "stdout",
     "output_type": "stream",
     "text": [
      "rayon: 3\n",
      "28.259999999999998 18.84\n"
     ]
    }
   ],
   "source": [
    "r = input(\"rayon: \")\n",
    "pi = 3.14\n",
    "aire = pi*int(r)*int(r)\n",
    "c = 2*pi*int(r)\n",
    "print(aire,c)\n"
   ]
  },
  {
   "cell_type": "markdown",
   "metadata": {
    "id": "d9dec37a"
   },
   "source": [
    "**Exercice 07:**\n",
    "> **Calculez la pente, l'ordonnée à l'origine en x et l'ordonnée à l'origine en $y$ de $y = 2x -2$.**"
   ]
  },
  {
   "cell_type": "code",
   "execution_count": 9,
   "metadata": {},
   "outputs": [
    {
     "name": "stdout",
     "output_type": "stream",
     "text": [
      "Enter x1: 2\n",
      "Enter x2: 3\n",
      "2.0 -2 1\n"
     ]
    }
   ],
   "source": [
    "x1= float(input(\"Enter x1: \"))\n",
    "y1=2*float(x1)-2\n",
    "x2= float(input(\"Enter x2: \"))\n",
    "y2=2*float(x2)-2\n",
    "pente=(float(y2)-float(y1))/(float(x2)-float(x1))\n",
    "orddy=2*0-2\n",
    "orddx=1\n",
    "print(pente, orddy, orddx)"
   ]
  },
  {
   "cell_type": "markdown",
   "metadata": {
    "id": "2f74d685"
   },
   "source": [
    "**Exercice 08:** \n",
    "> **Rédigez un script qui demande à l'utilisateur d'entrer les heures et le taux horaire. Calculez la rémunération de la personne ?**"
   ]
  },
  {
   "cell_type": "code",
   "execution_count": 10,
   "metadata": {},
   "outputs": [
    {
     "name": "stdout",
     "output_type": "stream",
     "text": [
      "Enter l'heure: 5\n",
      "Enter le taux horaire: 8000\n",
      "40000.0\n"
     ]
    }
   ],
   "source": [
    "Heure= input(\"Enter l'heure: \")\n",
    "Taux= input(\"Enter le taux horaire: \")\n",
    "Renum= float(Taux)*int(Heure)\n",
    "print(Renum)\n"
   ]
  },
  {
   "cell_type": "markdown",
   "metadata": {
    "id": "6ddd662c"
   },
   "source": [
    "**Exercice 09:** \n",
    "> **Écrivez un script qui demande à l'utilisateur d'entrer le nombre d'années. Calculez le nombre de secondes qu'une personne peut vivre. Supposons qu'une personne puisse vivre cent ans.**"
   ]
  },
  {
   "cell_type": "code",
   "execution_count": 11,
   "metadata": {},
   "outputs": [
    {
     "name": "stdout",
     "output_type": "stream",
     "text": [
      "Enter year number: 100\n",
      "3153600000\n"
     ]
    }
   ],
   "source": [
    "nombre_Annee= input(\"Enter year number: \")\n",
    "secondes=int(nombre_Annee)*31536000\n",
    "print(secondes)\n"
   ]
  },
  {
   "cell_type": "markdown",
   "metadata": {
    "id": "9b253387"
   },
   "source": [
    "**Exercice 10:** \n",
    "> **Écrivez un script Python qui affiche le tableau suivant**\n",
    "\n",
    "    1 1 1 1 1\n",
    "    \n",
    "    2 1 2 4 8\n",
    "    \n",
    "    3 1 3 9 27\n",
    "    \n",
    "    4 1 4 16 64\n",
    "    \n",
    "    5 1 5 25 125"
   ]
  },
  {
   "cell_type": "code",
   "execution_count": null,
   "metadata": {
    "colab": {
     "base_uri": "https://localhost:8080/"
    },
    "id": "aa2dae84",
    "outputId": "025e3d6a-cd67-405b-af2d-e1fb501455cf"
   },
   "outputs": [
    {
     "name": "stdout",
     "output_type": "stream",
     "text": [
      "1 1 1 1 1\n",
      "2 1 2 4 8\n",
      "3 1 3 9 27\n",
      "4 1 4 16 64\n",
      "5 1 5 25 125\n"
     ]
    }
   ],
   "source": [
    "a=1\n",
    "while a <= 5:\n",
    "  print(a, 1, a, a**2, a**3)\n",
    "  a+=1"
   ]
  },
  {
   "cell_type": "markdown",
   "metadata": {
    "id": "953e7d8c"
   },
   "source": [
    "**Exercise 11:** \n",
    ">**Assign the variables `time` and `distance` with the values $6.892$ and $19.7$. Calculate and display the value of the speed. Improve the display by imposing a digit after the decimal point.**"
   ]
  },
  {
   "cell_type": "code",
   "execution_count": 12,
   "metadata": {},
   "outputs": [
    {
     "name": "stdout",
     "output_type": "stream",
     "text": [
      "2.8583865351131745\n",
      "2.9\n"
     ]
    }
   ],
   "source": [
    "time=6.892\n",
    "distance=19.7\n",
    "speed=distance/time\n",
    "print(speed)\n",
    "V=round(speed,1)\n",
    "print(V)\n"
   ]
  },
  {
   "cell_type": "markdown",
   "metadata": {
    "id": "2d0f1ff9"
   },
   "source": [
    "**Exercice 12:** \n",
    "> **Écrire un programme qui, à partir de la saisie d’un rayon et d’une hauteur, calcule levolume d’un cône droit.**"
   ]
  },
  {
   "cell_type": "code",
   "execution_count": null,
   "metadata": {
    "colab": {
     "base_uri": "https://localhost:8080/"
    },
    "id": "969f5f68",
    "outputId": "5485e099-82bc-4701-9f02-f251718ccea6"
   },
   "outputs": [
    {
     "name": "stdout",
     "output_type": "stream",
     "text": [
      "Entrer le rayon: 4\n",
      "Entrer la hateur: 5\n"
     ]
    },
    {
     "data": {
      "text/plain": [
       "83.73333333333333"
      ]
     },
     "execution_count": 13,
     "metadata": {},
     "output_type": "execute_result"
    }
   ],
   "source": [
    "rayon = input(\"Entrer le rayon: \")\n",
    "hauteur = input(\"Entrer la hateur: \")\n",
    "pi = 3.14\n",
    "b = pi*int(rayon)**2\n",
    "volume = 1/3*(b*int(hauteur))\n",
    "volume"
   ]
  },
  {
   "cell_type": "markdown",
   "metadata": {
    "id": "e9b3ce2a"
   },
   "source": [
    "**Exercise 13:** \n",
    "> **The user gives a positive integer and the program announces how many times in a row this integer is divisible by 2.**"
   ]
  },
  {
   "cell_type": "code",
   "execution_count": null,
   "metadata": {
    "colab": {
     "base_uri": "https://localhost:8080/"
    },
    "id": "5c8fea9a",
    "outputId": "c61c1ae7-3c5e-4311-89d5-b6a5b62b1d09"
   },
   "outputs": [
    {
     "name": "stdout",
     "output_type": "stream",
     "text": [
      "Entrer un nombre positif: 4\n",
      "Le nombre de fois que ce nombre est divisible par deux est 2\n"
     ]
    }
   ],
   "source": [
    "ps = input(\"Entrer un nombre positif: \")\n",
    "if int(ps) <0: \n",
    "  print(\"Le nombre doit etre positif: \")\n",
    "  ps = input(\"Entrez cette fois ci un nombre positif: \")\n",
    "  if int(ps) <0:\n",
    "    print(\"On vous demande d'entrer un nombre positif\")\n",
    "  else:\n",
    "    nd=int(ps)/2 \n",
    "    print(\"Le nombre de fois que ce nombre est divisible par deux est\",int(nd))   \n",
    "\n",
    "\n",
    "\n",
    "else : \n",
    "  nd=int(ps)/2 \n",
    "  print(\"Le nombre de fois que ce nombre est divisible par deux est\",int(nd))"
   ]
  },
  {
   "cell_type": "code",
   "execution_count": 13,
   "metadata": {},
   "outputs": [
    {
     "name": "stdout",
     "output_type": "stream",
     "text": [
      "Enter a positive integer: 4\n",
      "2\n"
     ]
    }
   ],
   "source": [
    "N= int(input(\"Enter a positive integer: \"))\n",
    "x=0\n",
    "while (N%2==0):\n",
    "    N=N/2\n",
    "    x=x+1\n",
    "print(x)\n"
   ]
  },
  {
   "cell_type": "markdown",
   "metadata": {
    "id": "0485aed6"
   },
   "source": [
    "**Exercise 14:** \n",
    ">**The user gives an integer between 2 and 12, the program gives the number of ways to do this by rolling two dice."
   ]
  },
  {
   "cell_type": "code",
   "execution_count": null,
   "metadata": {
    "colab": {
     "base_uri": "https://localhost:8080/",
     "height": 133
    },
    "id": "31f48a15",
    "outputId": "cd5d91a8-ff42-4d6e-9f8a-a4071a9d3592"
   },
   "outputs": [
    {
     "ename": "SyntaxError",
     "evalue": "ignored",
     "output_type": "error",
     "traceback": [
      "\u001b[0;36m  File \u001b[0;32m\"<ipython-input-15-e0c88a6863ca>\"\u001b[0;36m, line \u001b[0;32m3\u001b[0m\n\u001b[0;31m    \u001b[0m\n\u001b[0m    ^\u001b[0m\n\u001b[0;31mSyntaxError\u001b[0m\u001b[0;31m:\u001b[0m unexpected EOF while parsing\n"
     ]
    }
   ],
   "source": [
    "nd = input(\"Entrez un nombre entre 2 et 12\")\n",
    "if int(nd)>2 & int(nd)<12: \n",
    "  "
   ]
  },
  {
   "cell_type": "markdown",
   "metadata": {
    "id": "cead0c8f"
   },
   "source": [
    "**Exercice 15:** \n",
    "> **Utilisez la fonction d'entrée intégrée `input()` pour obtenir le `_prénom_`, le `_nom_`, le `_pays_d_origine` et l'`_age_` d'un utilisateur et stockez la valeur dans les noms des variables correspondantes.**"
   ]
  },
  {
   "cell_type": "code",
   "execution_count": null,
   "metadata": {
    "colab": {
     "base_uri": "https://localhost:8080/"
    },
    "id": "0a2694a9",
    "outputId": "cefc44b7-e8c6-4942-f5ec-a27b09432693"
   },
   "outputs": [
    {
     "name": "stdout",
     "output_type": "stream",
     "text": [
      "Entrez votre prénom: Edwige \n",
      "Entrez votre nom: Akpoly\n",
      "Entrez votre pays d'origine: benin\n",
      "Entrez votre age: 24\n",
      "Elle s'appelle Edwige  Akpoly originaire du  benin et a 24 ans.\n"
     ]
    }
   ],
   "source": [
    "prenom = input(\"Entrez votre prénom: \")\n",
    "nom = input(\"Entrez votre nom: \")\n",
    "pays_origine = input(\"Entrez votre pays d'origine: \")\n",
    "age = input(\"Entrez votre age: \")\n",
    "print(\"Elle s'appelle\", prenom, nom, \"originaire du \", pays_origine, \"et a\", age,\"ans.\")"
   ]
  },
  {
   "cell_type": "markdown",
   "metadata": {
    "id": "33240a56"
   },
   "source": [
    "**Exercice 16:** \n",
    "\n",
    "**Déclarer $5$ comme `num_one` et $4$ comme `num_two`**\n",
    "\n",
    "   1. Additionner `num_one` et `num_two` et affecter la valeur à une variable `totale`.\n",
    "   2. Soustraire `num_two` de `num_one` et affecter la valeur à une variable `diff`.\n",
    "   3. Multipliez le `num_one` et le `num_two` et attribuez la valeur à une variable `produit`.\n",
    "   4. Divisez le `num_one` par le `num_two` et attribuez la valeur à une variable `division`.\n",
    "   5. Calculez `num_one` à la puissance de `num_two` et attribuez la valeur à une variable `exp`."
   ]
  },
  {
   "cell_type": "code",
   "execution_count": null,
   "metadata": {
    "colab": {
     "base_uri": "https://localhost:8080/"
    },
    "id": "c2f3e814",
    "outputId": "9c5901c9-1bc8-4ab7-e799-98f45aa61a48"
   },
   "outputs": [
    {
     "name": "stdout",
     "output_type": "stream",
     "text": [
      "La totale est:  9 \n",
      "La différence est:  1 \n",
      "Le produit est:  20 \n",
      "La division est:  1.25 \n",
      "La puissance est: 1\n"
     ]
    }
   ],
   "source": [
    "num_one = 5 \n",
    "num_two = 4 \n",
    "totale = num_one + num_two \n",
    "diff = num_one - num_two\n",
    "produit = num_one*num_two\n",
    "division = num_one/num_two\n",
    "exp = num_one^num_two\n",
    "print(\"Le total est: \" ,totale,\"\\n\" \"La différence est: \",diff, \"\\n\"\"Le produit est: \",produit,\"\\n\"\"La division est: \",division,\"\\n\"\"La puissance est:\",exp)"
   ]
  },
  {
   "cell_type": "markdown",
   "metadata": {
    "id": "80763237"
   },
   "source": [
    "<center> <b> <span style=\"color:orange;\"> 🎉 FÉLICITATIONS! / CONGRATULATIONS! 🎉 </span> </b></center>"
   ]
  }
 ],
 "metadata": {
  "colab": {
   "collapsed_sections": [],
   "name": "Init2Py_Practical_01.ipynb",
   "provenance": []
  },
  "kernelspec": {
   "display_name": "Python 3",
   "language": "python",
   "name": "python3"
  },
  "language_info": {
   "codemirror_mode": {
    "name": "ipython",
    "version": 3
   },
   "file_extension": ".py",
   "mimetype": "text/x-python",
   "name": "python",
   "nbconvert_exporter": "python",
   "pygments_lexer": "ipython3",
   "version": "3.8.10"
  }
 },
 "nbformat": 4,
 "nbformat_minor": 5
}
