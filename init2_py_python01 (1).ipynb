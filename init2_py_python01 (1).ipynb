{
 "cells": [
  {
   "cell_type": "code",
   "execution_count": 4,
   "metadata": {},
   "outputs": [
    {
     "name": "stdout",
     "output_type": "stream",
     "text": [
      "Donner la valeur de n4\n",
      "12\n",
      "60\n"
     ]
    }
   ],
   "source": [
    "#1\n",
    "n=int(input('Donner la valeur de n'))\n",
    "j=0\n",
    "S=0\n",
    "P=1\n",
    "while j<n-1:\n",
    "    S+=(j+3)\n",
    "    P*=(j+3)\n",
    "    j+=1\n",
    "print(S)\n",
    "print(P)"
   ]
  },
  {
   "cell_type": "code",
   "execution_count": 5,
   "metadata": {},
   "outputs": [
    {
     "name": "stdout",
     "output_type": "stream",
     "text": [
      "Donner un numéro de jour compris entre 0 et 6:4\n",
      "Vendredi\n"
     ]
    }
   ],
   "source": [
    "#2\n",
    "ouvrable={0:\"Lundi\",\n",
    "         1:\"Mardi\",\n",
    "         2:\"Mercredi\",\n",
    "         3:\"jeudi\",\n",
    "         4:\"Vendredi\"}\n",
    "i=int (input('Donner un numéro de jour compris entre 0 et 6:'))\n",
    "if i in ouvrable.keys():\n",
    "    print(ouvrable[i])\n",
    "else:\n",
    "    print(\"Week-end\")"
   ]
  },
  {
   "cell_type": "code",
   "execution_count": 7,
   "metadata": {},
   "outputs": [
    {
     "name": "stdout",
     "output_type": "stream",
     "text": [
      "Donner le numéro du mois4\n",
      "31\n"
     ]
    }
   ],
   "source": [
    "#3\n",
    "nbjoursdumois={0:31,\n",
    "               1:28,\n",
    "               2:31,\n",
    "               3:30,\n",
    "               4:31,\n",
    "               5:30,\n",
    "               6:31,\n",
    "               7:31,\n",
    "               8:30,\n",
    "               9:31,\n",
    "               10:30,\n",
    "               11:31}\n",
    "m=int(input('Donner le numéro du mois'))\n",
    "if m in nbjoursdumois.keys():\n",
    "    print(nbjoursdumois[m])\n",
    "else:\n",
    "    print('c''est n''est pas un mois: ')"
   ]
  },
  {
   "cell_type": "code",
   "execution_count": 9,
   "metadata": {},
   "outputs": [
    {
     "name": "stdout",
     "output_type": "stream",
     "text": [
      "Ablaye\n",
      "Ablaye\n",
      "Ablaye\n",
      "---------------------\n",
      "Ablaye\n",
      "Ablaye\n",
      "Ablaye\n"
     ]
    }
   ],
   "source": [
    "#4\n",
    "name=\"Ablaye\"\n",
    "for x in range(3):\n",
    "    print(name)\n",
    "\n",
    "print('---------------------') \n",
    "\n",
    "i=0\n",
    "while i<3:\n",
    "    print(name)\n",
    "    i+=1   "
   ]
  },
  {
   "cell_type": "code",
   "execution_count": null,
   "metadata": {},
   "outputs": [],
   "source": [
    "#5\n"
   ]
  },
  {
   "cell_type": "code",
   "execution_count": 10,
   "metadata": {},
   "outputs": [
    {
     "name": "stdout",
     "output_type": "stream",
     "text": [
      "Entrez le nombre de termes:4\n",
      "Suite de Fibonacci en utilisant la recursion :\n",
      "0\n",
      "1\n",
      "1\n",
      "2\n"
     ]
    }
   ],
   "source": [
    "def fibonacci(n):\n",
    "    if(n <= 1):\n",
    "        return n\n",
    "    else:\n",
    "        return (fibonacci(n-1) + fibonacci(n-2))\n",
    "n = int(input(\"Entrez le nombre de termes:\"))\n",
    "print(\"Suite de Fibonacci en utilisant la recursion :\")\n",
    "for i in range(n):\n",
    "    print(fibonacci(i))"
   ]
  },
  {
   "cell_type": "code",
   "execution_count": null,
   "metadata": {},
   "outputs": [],
   "source": []
  }
 ],
 "metadata": {
  "kernelspec": {
   "display_name": "Python 3",
   "language": "python",
   "name": "python3"
  },
  "language_info": {
   "codemirror_mode": {
    "name": "ipython",
    "version": 3
   },
   "file_extension": ".py",
   "mimetype": "text/x-python",
   "name": "python",
   "nbconvert_exporter": "python",
   "pygments_lexer": "ipython3",
   "version": "3.7.10"
  }
 },
 "nbformat": 4,
 "nbformat_minor": 5
}
